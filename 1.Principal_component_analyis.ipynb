{
 "cells": [
  {
   "cell_type": "code",
   "execution_count": 2,
   "metadata": {},
   "outputs": [],
   "source": [
    "\n",
    "from numpy import array\n",
    "from numpy import mean\n",
    "from numpy import cov\n",
    "from numpy.linalg import eig"
   ]
  },
  {
   "cell_type": "code",
   "execution_count": 3,
   "metadata": {},
   "outputs": [
    {
     "name": "stdout",
     "output_type": "stream",
     "text": [
      "[[2.5 2.4]\n",
      " [0.5 0.7]\n",
      " [2.2 2.9]\n",
      " [1.9 2.2]\n",
      " [3.1 3. ]\n",
      " [2.3 2.7]\n",
      " [2.  1.6]\n",
      " [1.  1.1]\n",
      " [1.5 1.6]\n",
      " [1.1 0.9]]\n"
     ]
    }
   ],
   "source": [
    "# define a matrix\n",
    "A = array([[2.5, 2.4], [0.5, 0.7], [2.2, 2.9], [1.9, 2.2], [3.1, 3], [2.3, 2.7], [2, 1.6], [1, 1.1], [1.5, 1.6], [1.1, 0.9]])\n",
    "print(A)"
   ]
  },
  {
   "cell_type": "code",
   "execution_count": 5,
   "metadata": {},
   "outputs": [
    {
     "name": "stdout",
     "output_type": "stream",
     "text": [
      "[1.81 1.91]\n"
     ]
    }
   ],
   "source": [
    "# calculate the mean of each column\n",
    "M = mean(A.T, axis=1)\n",
    "print(M)"
   ]
  },
  {
   "cell_type": "code",
   "execution_count": 6,
   "metadata": {},
   "outputs": [
    {
     "name": "stdout",
     "output_type": "stream",
     "text": [
      "[[ 0.69  0.49]\n",
      " [-1.31 -1.21]\n",
      " [ 0.39  0.99]\n",
      " [ 0.09  0.29]\n",
      " [ 1.29  1.09]\n",
      " [ 0.49  0.79]\n",
      " [ 0.19 -0.31]\n",
      " [-0.81 -0.81]\n",
      " [-0.31 -0.31]\n",
      " [-0.71 -1.01]]\n"
     ]
    }
   ],
   "source": [
    "# center columns by subtracting column means\n",
    "C = A - M\n",
    "print(C)"
   ]
  },
  {
   "cell_type": "markdown",
   "metadata": {},
   "source": [
    "### covariance matrix"
   ]
  },
  {
   "attachments": {
    "image.png": {
     "image/png": "[encoded data removed]"
    }
   },
   "cell_type": "markdown",
   "metadata": {},
   "source": [
    "![image.png](attachment:image.png)"
   ]
  },
  {
   "cell_type": "code",
   "execution_count": 24,
   "metadata": {},
   "outputs": [
    {
     "data": {
      "text/plain": [
       "array([[ 0.69,  0.49],\n",
       "       [-1.31, -1.21],\n",
       "       [ 0.39,  0.99],\n",
       "       [ 0.09,  0.29],\n",
       "       [ 1.29,  1.09],\n",
       "       [ 0.49,  0.79],\n",
       "       [ 0.19, -0.31],\n",
       "       [-0.81, -0.81],\n",
       "       [-0.31, -0.31],\n",
       "       [-0.71, -1.01]])"
      ]
     },
     "execution_count": 24,
     "metadata": {},
     "output_type": "execute_result"
    }
   ],
   "source": [
    "C"
   ]
  },
  {
   "cell_type": "code",
   "execution_count": 25,
   "metadata": {},
   "outputs": [
    {
     "data": {
      "text/plain": [
       "array([[ 0.69, -1.31,  0.39,  0.09,  1.29,  0.49,  0.19, -0.81, -0.31,\n",
       "        -0.71],\n",
       "       [ 0.49, -1.21,  0.99,  0.29,  1.09,  0.79, -0.31, -0.81, -0.31,\n",
       "        -1.01]])"
      ]
     },
     "execution_count": 25,
     "metadata": {},
     "output_type": "execute_result"
    }
   ],
   "source": [
    "C.T"
   ]
  },
  {
   "cell_type": "code",
   "execution_count": 7,
   "metadata": {},
   "outputs": [
    {
     "name": "stdout",
     "output_type": "stream",
     "text": [
      "[[0.61655556 0.61544444]\n",
      " [0.61544444 0.71655556]]\n"
     ]
    }
   ],
   "source": [
    "# calculate covariance matrix of centered matrix\n",
    "V = cov(C.T)\n",
    "print(V)"
   ]
  },
  {
   "cell_type": "code",
   "execution_count": 10,
   "metadata": {},
   "outputs": [
    {
     "name": "stdout",
     "output_type": "stream",
     "text": [
      "[[-0.73517866 -0.6778734 ]\n",
      " [ 0.6778734  -0.73517866]]\n"
     ]
    }
   ],
   "source": [
    "# eigen decomposition of covariance matrix\n",
    "values, vectors = eig(V)\n",
    "print(vectors)\n",
    "\n"
   ]
  },
  {
   "cell_type": "code",
   "execution_count": 11,
   "metadata": {},
   "outputs": [
    {
     "name": "stdout",
     "output_type": "stream",
     "text": [
      "[0.0490834  1.28402771]\n"
     ]
    }
   ],
   "source": [
    "#eigen values\n",
    "print(values)"
   ]
  },
  {
   "cell_type": "code",
   "execution_count": 28,
   "metadata": {},
   "outputs": [
    {
     "name": "stdout",
     "output_type": "stream",
     "text": [
      "[[-0.17511531 -0.82797019]\n",
      " [ 0.14285723  1.77758033]\n",
      " [ 0.38437499 -0.99219749]\n",
      " [ 0.13041721 -0.27421042]\n",
      " [-0.20949846 -1.67580142]\n",
      " [ 0.17528244 -0.9129491 ]\n",
      " [-0.3498247   0.09910944]\n",
      " [ 0.04641726  1.14457216]\n",
      " [ 0.01776463  0.43804614]\n",
      " [-0.16267529  1.22382056]]\n"
     ]
    }
   ],
   "source": [
    "# project data  - EIGEN VECTOR  * Centered data\n",
    "P = vectors.T.dot(C.T)\n",
    "print(P.T)"
   ]
  },
  {
   "cell_type": "code",
   "execution_count": null,
   "metadata": {},
   "outputs": [],
   "source": [
    "#Projected data is calcuated manually, same way it can be done using inbuilt pca function which is done below"
   ]
  },
  {
   "cell_type": "code",
   "execution_count": 14,
   "metadata": {},
   "outputs": [],
   "source": [
    "from sklearn.decomposition import PCA\n",
    "\n",
    "# create the PCA instance\n",
    "pca = PCA(2)"
   ]
  },
  {
   "cell_type": "code",
   "execution_count": 19,
   "metadata": {},
   "outputs": [
    {
     "data": {
      "text/plain": [
       "PCA(copy=True, iterated_power='auto', n_components=2, random_state=None,\n",
       "  svd_solver='auto', tol=0.0, whiten=False)"
      ]
     },
     "execution_count": 19,
     "metadata": {},
     "output_type": "execute_result"
    }
   ],
   "source": [
    "# fit on data\n",
    "pca.fit(A)"
   ]
  },
  {
   "cell_type": "code",
   "execution_count": 16,
   "metadata": {},
   "outputs": [
    {
     "name": "stdout",
     "output_type": "stream",
     "text": [
      "[[-0.18847868  0.47194324 -0.39741537 -0.11681567 -0.42332048 -0.31417157\n",
      "   0.12960692  0.31703644  0.12133493  0.40028023]\n",
      " [-0.92361683  0.09008118  0.24452335  0.04756052 -0.05229439  0.03252983\n",
      "  -0.10679134 -0.03030342 -0.04404841 -0.24229694]]\n",
      "[5.99900000e+00 8.05038717e-32]\n"
     ]
    }
   ],
   "source": [
    "# access values and vectors\n",
    "print(pca.components_)\n",
    "print(pca.explained_variance_)"
   ]
  },
  {
   "cell_type": "code",
   "execution_count": 21,
   "metadata": {},
   "outputs": [
    {
     "name": "stdout",
     "output_type": "stream",
     "text": [
      "[[-0.82797019 -0.17511531]\n",
      " [ 1.77758033  0.14285723]\n",
      " [-0.99219749  0.38437499]\n",
      " [-0.27421042  0.13041721]\n",
      " [-1.67580142 -0.20949846]\n",
      " [-0.9129491   0.17528244]\n",
      " [ 0.09910944 -0.3498247 ]\n",
      " [ 1.14457216  0.04641726]\n",
      " [ 0.43804614  0.01776463]\n",
      " [ 1.22382056 -0.16267529]]\n"
     ]
    }
   ],
   "source": [
    "# transform data\n",
    "B = pca.transform(A)\n",
    "print(B)"
   ]
  },
  {
   "cell_type": "code",
   "execution_count": 23,
   "metadata": {},
   "outputs": [
    {
     "name": "stdout",
     "output_type": "stream",
     "text": [
      "[1.28402771 0.0490834 ]\n"
     ]
    }
   ],
   "source": [
    "#Eigen values\n",
    "print(pca.explained_variance_) "
   ]
  }
 ],
 "metadata": {
  "kernelspec": {
   "display_name": "Python 3",
   "language": "python",
   "name": "python3"
  },
  "language_info": {
   "codemirror_mode": {
    "name": "ipython",
    "version": 3
   },
   "file_extension": ".py",
   "mimetype": "text/x-python",
   "name": "python",
   "nbconvert_exporter": "python",
   "pygments_lexer": "ipython3",
   "version": "3.7.3"
  }
 },
 "nbformat": 4,
 "nbformat_minor": 2
}
